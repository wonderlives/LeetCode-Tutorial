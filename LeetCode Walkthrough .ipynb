{
 "cells": [
  {
   "cell_type": "markdown",
   "metadata": {},
   "source": [
    "# Date: Feb 1th, 2018\n",
    "## Aim: 10 questions\n",
    "###:\n",
    "766. Toeplitz Matrix\n"
   ]
  },
  {
   "cell_type": "markdown",
   "metadata": {},
   "source": [
    "## 766. Toeplitz Matrix\n",
    "### Question: https://leetcode.com/problems/toeplitz-matrix/description/"
   ]
  },
  {
   "cell_type": "code",
   "execution_count": 32,
   "metadata": {},
   "outputs": [],
   "source": [
    "# Solution:\n",
    "class Solution(object):\n",
    "    def isToeplitzMatrix(self, matrix):\n",
    "        \"\"\"\n",
    "        :type matrix: List[List[int]]\n",
    "        :rtype: bool\n",
    "        \"\"\"\n",
    "        # the matrix is given as M * N\n",
    "        m = len(matrix)\n",
    "        n = len(matrix[0])\n",
    "        \n",
    "        # the starting point is 0,0\n",
    "        i = 0 \n",
    "        j = 0\n",
    "        \n",
    "        # Work by row first\n",
    "        while i < m:\n",
    "            point = (i,j)\n",
    "            if not self.isAllMatch(matrix, point):\n",
    "                return False \n",
    "            i += 1\n",
    "        \n",
    "        # Only need to work by column in the first row\n",
    "        while j < n:\n",
    "            point = (i,j)\n",
    "            if not self.isAllMatch(matrix, point):\n",
    "                return False\n",
    "            j += 1\n",
    "        \n",
    "        # If no violation, return True\n",
    "        return True\n",
    "        \n",
    "    def isAllMatch (self, matrix, point):\n",
    "        m = len(matrix)\n",
    "        n = len(matrix[0])\n",
    "        i = point[0]\n",
    "        j = point[1]\n",
    "        # Be very careful about the index\n",
    "        while i < (m) and j < (n):\n",
    "            if i == m-1 or j == n-1:\n",
    "                return True\n",
    "            if  matrix[i][j] == matrix[i+1][j+1]:         \n",
    "                i += 1\n",
    "                j += 1\n",
    "            else:\n",
    "                return False\n",
    "        return True\n",
    "        \n",
    "# testcase: \n",
    "# m = [[1,2,3,4],[5,1,2,3],[9,5,1,2]]"
   ]
  },
  {
   "cell_type": "code",
   "execution_count": 33,
   "metadata": {},
   "outputs": [
    {
     "data": {
      "text/plain": [
       "True"
      ]
     },
     "execution_count": 33,
     "metadata": {},
     "output_type": "execute_result"
    }
   ],
   "source": [
    "m = [[1,2,3,4],[5,1,2,3],[9,5,1,2]]\n",
    "solution = Solution()\n",
    "solution.isToeplitzMatrix(m)"
   ]
  },
  {
   "cell_type": "code",
   "execution_count": null,
   "metadata": {
    "collapsed": true
   },
   "outputs": [],
   "source": []
  }
 ],
 "metadata": {
  "kernelspec": {
   "display_name": "Python [default]",
   "language": "python",
   "name": "python3"
  },
  "language_info": {
   "codemirror_mode": {
    "name": "ipython",
    "version": 3
   },
   "file_extension": ".py",
   "mimetype": "text/x-python",
   "name": "python",
   "nbconvert_exporter": "python",
   "pygments_lexer": "ipython3",
   "version": "3.6.2"
  }
 },
 "nbformat": 4,
 "nbformat_minor": 2
}
